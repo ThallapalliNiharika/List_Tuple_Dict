{
 "cells": [
  {
   "cell_type": "code",
   "execution_count": 1,
   "id": "94e60f89",
   "metadata": {},
   "outputs": [],
   "source": [
    "a = [4, 5, 6, 78, 23, 12, 23, 34]"
   ]
  },
  {
   "cell_type": "code",
   "execution_count": 2,
   "id": "6077e18b",
   "metadata": {},
   "outputs": [
    {
     "data": {
      "text/plain": [
       "list"
      ]
     },
     "execution_count": 2,
     "metadata": {},
     "output_type": "execute_result"
    }
   ],
   "source": [
    "type(a)"
   ]
  },
  {
   "cell_type": "code",
   "execution_count": 3,
   "id": "8b1e3e2a",
   "metadata": {},
   "outputs": [],
   "source": [
    "a = [\"Niharika\", \"Jayasree\", \"Lahari\", \"Sravya\"]"
   ]
  },
  {
   "cell_type": "code",
   "execution_count": 4,
   "id": "4ecb45e0",
   "metadata": {},
   "outputs": [
    {
     "data": {
      "text/plain": [
       "list"
      ]
     },
     "execution_count": 4,
     "metadata": {},
     "output_type": "execute_result"
    }
   ],
   "source": [
    "type(a)"
   ]
  },
  {
   "cell_type": "code",
   "execution_count": 5,
   "id": "c51cc69f",
   "metadata": {},
   "outputs": [],
   "source": [
    "#list can be an array but vice versa may not be true."
   ]
  },
  {
   "cell_type": "code",
   "execution_count": 6,
   "id": "765c009f",
   "metadata": {},
   "outputs": [],
   "source": [
    "a = [15, 17, 19, \"Niharika\", \"Lahari\", \"Jayasree\", True]"
   ]
  },
  {
   "cell_type": "code",
   "execution_count": 7,
   "id": "3177fca6",
   "metadata": {},
   "outputs": [
    {
     "data": {
      "text/plain": [
       "list"
      ]
     },
     "execution_count": 7,
     "metadata": {},
     "output_type": "execute_result"
    }
   ],
   "source": [
    "type(a)"
   ]
  },
  {
   "cell_type": "code",
   "execution_count": 8,
   "id": "56799db2",
   "metadata": {},
   "outputs": [],
   "source": [
    "t = ()"
   ]
  },
  {
   "cell_type": "code",
   "execution_count": 9,
   "id": "c5c9b3f1",
   "metadata": {},
   "outputs": [
    {
     "data": {
      "text/plain": [
       "tuple"
      ]
     },
     "execution_count": 9,
     "metadata": {},
     "output_type": "execute_result"
    }
   ],
   "source": [
    "type(t)"
   ]
  },
  {
   "cell_type": "code",
   "execution_count": 10,
   "id": "db20d823",
   "metadata": {},
   "outputs": [],
   "source": [
    "t =(15, 17, 19, \"Niharika\", \"Lahari\", \"Jayasree\", True)"
   ]
  },
  {
   "cell_type": "code",
   "execution_count": 11,
   "id": "53d7bdd9",
   "metadata": {},
   "outputs": [
    {
     "data": {
      "text/plain": [
       "tuple"
      ]
     },
     "execution_count": 11,
     "metadata": {},
     "output_type": "execute_result"
    }
   ],
   "source": [
    "type(t)"
   ]
  },
  {
   "cell_type": "code",
   "execution_count": 12,
   "id": "32fc7f88",
   "metadata": {},
   "outputs": [],
   "source": [
    "d = {15, 17, 19, \"Niharika\", \"Lahari\", \"Jayasree\", True}"
   ]
  },
  {
   "cell_type": "code",
   "execution_count": 13,
   "id": "2bc7fe98",
   "metadata": {},
   "outputs": [
    {
     "data": {
      "text/plain": [
       "set"
      ]
     },
     "execution_count": 13,
     "metadata": {},
     "output_type": "execute_result"
    }
   ],
   "source": [
    "type(d)"
   ]
  },
  {
   "cell_type": "code",
   "execution_count": 14,
   "id": "e04ea929",
   "metadata": {},
   "outputs": [],
   "source": [
    "d ={}"
   ]
  },
  {
   "cell_type": "code",
   "execution_count": 15,
   "id": "a4746d80",
   "metadata": {},
   "outputs": [
    {
     "data": {
      "text/plain": [
       "dict"
      ]
     },
     "execution_count": 15,
     "metadata": {},
     "output_type": "execute_result"
    }
   ],
   "source": [
    "type(d)"
   ]
  },
  {
   "cell_type": "code",
   "execution_count": 16,
   "id": "64cd8f72",
   "metadata": {},
   "outputs": [],
   "source": [
    "d = {\"name\":\"Niharika\",\"Class\":\"sec-1\",\"Age\":18}"
   ]
  },
  {
   "cell_type": "code",
   "execution_count": 17,
   "id": "b2f2d08c",
   "metadata": {},
   "outputs": [
    {
     "data": {
      "text/plain": [
       "dict"
      ]
     },
     "execution_count": 17,
     "metadata": {},
     "output_type": "execute_result"
    }
   ],
   "source": [
    "type(d)"
   ]
  },
  {
   "cell_type": "code",
   "execution_count": 19,
   "id": "de80d374",
   "metadata": {},
   "outputs": [
    {
     "data": {
      "text/plain": [
       "'Niharika'"
      ]
     },
     "execution_count": 19,
     "metadata": {},
     "output_type": "execute_result"
    }
   ],
   "source": [
    "d[\"name\"]"
   ]
  },
  {
   "cell_type": "code",
   "execution_count": 20,
   "id": "75f43c13",
   "metadata": {},
   "outputs": [
    {
     "data": {
      "text/plain": [
       "18"
      ]
     },
     "execution_count": 20,
     "metadata": {},
     "output_type": "execute_result"
    }
   ],
   "source": [
    "d[\"Age\"]"
   ]
  },
  {
   "cell_type": "code",
   "execution_count": 23,
   "id": "6ca354cc",
   "metadata": {},
   "outputs": [],
   "source": [
    "l = [15, 17, 19, \"Niharika\", \"Lahari\", \"Jayasree\", True]"
   ]
  },
  {
   "cell_type": "code",
   "execution_count": 24,
   "id": "6070f7f2",
   "metadata": {},
   "outputs": [
    {
     "data": {
      "text/plain": [
       "'Lahari'"
      ]
     },
     "execution_count": 24,
     "metadata": {},
     "output_type": "execute_result"
    }
   ],
   "source": [
    "l[4]"
   ]
  },
  {
   "cell_type": "code",
   "execution_count": 25,
   "id": "1e6bb3d4",
   "metadata": {},
   "outputs": [
    {
     "data": {
      "text/plain": [
       "True"
      ]
     },
     "execution_count": 25,
     "metadata": {},
     "output_type": "execute_result"
    }
   ],
   "source": [
    "l[-1]"
   ]
  },
  {
   "cell_type": "code",
   "execution_count": 26,
   "id": "9f961885",
   "metadata": {},
   "outputs": [
    {
     "data": {
      "text/plain": [
       "15"
      ]
     },
     "execution_count": 26,
     "metadata": {},
     "output_type": "execute_result"
    }
   ],
   "source": [
    "l[-7]"
   ]
  },
  {
   "cell_type": "code",
   "execution_count": 27,
   "id": "3bc4adf5",
   "metadata": {},
   "outputs": [
    {
     "data": {
      "text/plain": [
       "19"
      ]
     },
     "execution_count": 27,
     "metadata": {},
     "output_type": "execute_result"
    }
   ],
   "source": [
    "l[2]"
   ]
  },
  {
   "cell_type": "code",
   "execution_count": 28,
   "id": "fec225cc",
   "metadata": {},
   "outputs": [
    {
     "data": {
      "text/plain": [
       "[15, 17, 19, 'Niharika']"
      ]
     },
     "execution_count": 28,
     "metadata": {},
     "output_type": "execute_result"
    }
   ],
   "source": [
    "l[0:4]"
   ]
  },
  {
   "cell_type": "code",
   "execution_count": 30,
   "id": "6613ec92",
   "metadata": {},
   "outputs": [
    {
     "data": {
      "text/plain": [
       "[15, 'Niharika', True]"
      ]
     },
     "execution_count": 30,
     "metadata": {},
     "output_type": "execute_result"
    }
   ],
   "source": [
    "l[0:7:3]"
   ]
  },
  {
   "cell_type": "code",
   "execution_count": 31,
   "id": "1b888b7f",
   "metadata": {},
   "outputs": [
    {
     "data": {
      "text/plain": [
       "[]"
      ]
     },
     "execution_count": 31,
     "metadata": {},
     "output_type": "execute_result"
    }
   ],
   "source": [
    "l[0:7:-1]"
   ]
  },
  {
   "cell_type": "code",
   "execution_count": 32,
   "id": "5d8a4086",
   "metadata": {},
   "outputs": [
    {
     "data": {
      "text/plain": [
       "[True, 'Lahari', 19, 15]"
      ]
     },
     "execution_count": 32,
     "metadata": {},
     "output_type": "execute_result"
    }
   ],
   "source": [
    "l[-1:-100:-2]"
   ]
  },
  {
   "cell_type": "code",
   "execution_count": 33,
   "id": "3844ab4e",
   "metadata": {},
   "outputs": [],
   "source": [
    "l.append(\"Sravya\")"
   ]
  },
  {
   "cell_type": "code",
   "execution_count": 34,
   "id": "a8e000ac",
   "metadata": {},
   "outputs": [
    {
     "data": {
      "text/plain": [
       "[15, 17, 19, 'Niharika', 'Lahari', 'Jayasree', True, 'Sravya']"
      ]
     },
     "execution_count": 34,
     "metadata": {},
     "output_type": "execute_result"
    }
   ],
   "source": [
    "l"
   ]
  },
  {
   "cell_type": "code",
   "execution_count": 36,
   "id": "7c2c1c8e",
   "metadata": {},
   "outputs": [
    {
     "data": {
      "text/plain": [
       "1"
      ]
     },
     "execution_count": 36,
     "metadata": {},
     "output_type": "execute_result"
    }
   ],
   "source": [
    "l.count(15)"
   ]
  },
  {
   "cell_type": "code",
   "execution_count": 39,
   "id": "eeec1c9c",
   "metadata": {},
   "outputs": [],
   "source": [
    "l.extend(\"lahari\")"
   ]
  },
  {
   "cell_type": "code",
   "execution_count": 40,
   "id": "f5d1e0e8",
   "metadata": {},
   "outputs": [
    {
     "data": {
      "text/plain": [
       "[15,\n",
       " 17,\n",
       " 19,\n",
       " 'Niharika',\n",
       " 'Lahari',\n",
       " 'Jayasree',\n",
       " True,\n",
       " 'Sravya',\n",
       " '1',\n",
       " '0',\n",
       " '0',\n",
       " '0',\n",
       " 'l',\n",
       " 'a',\n",
       " 'h',\n",
       " 'a',\n",
       " 'r',\n",
       " 'i']"
      ]
     },
     "execution_count": 40,
     "metadata": {},
     "output_type": "execute_result"
    }
   ],
   "source": [
    "l"
   ]
  },
  {
   "cell_type": "code",
   "execution_count": 41,
   "id": "37431472",
   "metadata": {},
   "outputs": [],
   "source": [
    "l.append(\"Akshara\")"
   ]
  },
  {
   "cell_type": "code",
   "execution_count": 42,
   "id": "3b8f1a8a",
   "metadata": {},
   "outputs": [
    {
     "data": {
      "text/plain": [
       "[15,\n",
       " 17,\n",
       " 19,\n",
       " 'Niharika',\n",
       " 'Lahari',\n",
       " 'Jayasree',\n",
       " True,\n",
       " 'Sravya',\n",
       " '1',\n",
       " '0',\n",
       " '0',\n",
       " '0',\n",
       " 'l',\n",
       " 'a',\n",
       " 'h',\n",
       " 'a',\n",
       " 'r',\n",
       " 'i',\n",
       " 'Akshara']"
      ]
     },
     "execution_count": 42,
     "metadata": {},
     "output_type": "execute_result"
    }
   ],
   "source": [
    "l"
   ]
  },
  {
   "cell_type": "code",
   "execution_count": 43,
   "id": "f038803e",
   "metadata": {},
   "outputs": [],
   "source": [
    "l.append([\"niha\",7,True])"
   ]
  },
  {
   "cell_type": "code",
   "execution_count": 44,
   "id": "a54ee4c0",
   "metadata": {},
   "outputs": [
    {
     "data": {
      "text/plain": [
       "[15,\n",
       " 17,\n",
       " 19,\n",
       " 'Niharika',\n",
       " 'Lahari',\n",
       " 'Jayasree',\n",
       " True,\n",
       " 'Sravya',\n",
       " '1',\n",
       " '0',\n",
       " '0',\n",
       " '0',\n",
       " 'l',\n",
       " 'a',\n",
       " 'h',\n",
       " 'a',\n",
       " 'r',\n",
       " 'i',\n",
       " 'Akshara',\n",
       " ['niha', 7, True]]"
      ]
     },
     "execution_count": 44,
     "metadata": {},
     "output_type": "execute_result"
    }
   ],
   "source": [
    "l"
   ]
  },
  {
   "cell_type": "code",
   "execution_count": 47,
   "id": "06b8e4ff",
   "metadata": {},
   "outputs": [
    {
     "data": {
      "text/plain": [
       "['niha', 7, True]"
      ]
     },
     "execution_count": 47,
     "metadata": {},
     "output_type": "execute_result"
    }
   ],
   "source": [
    "l.pop()"
   ]
  },
  {
   "cell_type": "code",
   "execution_count": 48,
   "id": "43d98ef2",
   "metadata": {},
   "outputs": [
    {
     "data": {
      "text/plain": [
       "15"
      ]
     },
     "execution_count": 48,
     "metadata": {},
     "output_type": "execute_result"
    }
   ],
   "source": [
    "l.pop(0)"
   ]
  },
  {
   "cell_type": "code",
   "execution_count": 49,
   "id": "d003e9ad",
   "metadata": {},
   "outputs": [
    {
     "data": {
      "text/plain": [
       "[17,\n",
       " 19,\n",
       " 'Niharika',\n",
       " 'Lahari',\n",
       " 'Jayasree',\n",
       " True,\n",
       " 'Sravya',\n",
       " '1',\n",
       " '0',\n",
       " '0',\n",
       " '0',\n",
       " 'l',\n",
       " 'a',\n",
       " 'h',\n",
       " 'r',\n",
       " 'i',\n",
       " 'Akshara']"
      ]
     },
     "execution_count": 49,
     "metadata": {},
     "output_type": "execute_result"
    }
   ],
   "source": [
    "l"
   ]
  },
  {
   "cell_type": "code",
   "execution_count": 50,
   "id": "beaa7f9e",
   "metadata": {},
   "outputs": [],
   "source": [
    "l.remove(\"Akshara\")"
   ]
  },
  {
   "cell_type": "code",
   "execution_count": 51,
   "id": "bf7e1ad7",
   "metadata": {},
   "outputs": [
    {
     "data": {
      "text/plain": [
       "[17,\n",
       " 19,\n",
       " 'Niharika',\n",
       " 'Lahari',\n",
       " 'Jayasree',\n",
       " True,\n",
       " 'Sravya',\n",
       " '1',\n",
       " '0',\n",
       " '0',\n",
       " '0',\n",
       " 'l',\n",
       " 'a',\n",
       " 'h',\n",
       " 'r',\n",
       " 'i']"
      ]
     },
     "execution_count": 51,
     "metadata": {},
     "output_type": "execute_result"
    }
   ],
   "source": [
    "l"
   ]
  },
  {
   "cell_type": "code",
   "execution_count": 52,
   "id": "525a36cd",
   "metadata": {},
   "outputs": [],
   "source": [
    "l1 = [15, 17, 19, 'Niharika', 'Lahari', 'Jayasree', True, 'Sravya']"
   ]
  },
  {
   "cell_type": "code",
   "execution_count": 53,
   "id": "6903dc26",
   "metadata": {},
   "outputs": [
    {
     "ename": "TypeError",
     "evalue": "'>' not supported between instances of 'str' and 'int'",
     "output_type": "error",
     "traceback": [
      "\u001b[1;31m---------------------------------------------------------------------------\u001b[0m",
      "\u001b[1;31mTypeError\u001b[0m                                 Traceback (most recent call last)",
      "Input \u001b[1;32mIn [53]\u001b[0m, in \u001b[0;36m<cell line: 1>\u001b[1;34m()\u001b[0m\n\u001b[1;32m----> 1\u001b[0m \u001b[38;5;28;43mmax\u001b[39;49m\u001b[43m(\u001b[49m\u001b[43ml1\u001b[49m\u001b[43m)\u001b[49m\n",
      "\u001b[1;31mTypeError\u001b[0m: '>' not supported between instances of 'str' and 'int'"
     ]
    }
   ],
   "source": [
    "max(l1)"
   ]
  },
  {
   "cell_type": "code",
   "execution_count": 55,
   "id": "28a3c4f4",
   "metadata": {},
   "outputs": [],
   "source": [
    "l2 =[12,14,16,100000000000000000000000000000000]"
   ]
  },
  {
   "cell_type": "code",
   "execution_count": 56,
   "id": "1a6af615",
   "metadata": {},
   "outputs": [
    {
     "data": {
      "text/plain": [
       "100000000000000000000000000000000"
      ]
     },
     "execution_count": 56,
     "metadata": {},
     "output_type": "execute_result"
    }
   ],
   "source": [
    "max(l2)"
   ]
  },
  {
   "cell_type": "code",
   "execution_count": 57,
   "id": "1e30494a",
   "metadata": {},
   "outputs": [],
   "source": [
    "l3 =['Niharika', 'Lahari', 'Jayasree']\n"
   ]
  },
  {
   "cell_type": "code",
   "execution_count": 58,
   "id": "ad2af7c1",
   "metadata": {},
   "outputs": [
    {
     "data": {
      "text/plain": [
       "'Niharika'"
      ]
     },
     "execution_count": 58,
     "metadata": {},
     "output_type": "execute_result"
    }
   ],
   "source": [
    "max(l3)"
   ]
  },
  {
   "cell_type": "code",
   "execution_count": 59,
   "id": "2a754aba",
   "metadata": {},
   "outputs": [
    {
     "data": {
      "text/plain": [
       "'Jayasree'"
      ]
     },
     "execution_count": 59,
     "metadata": {},
     "output_type": "execute_result"
    }
   ],
   "source": [
    "min(l3)"
   ]
  },
  {
   "cell_type": "code",
   "execution_count": 60,
   "id": "d3063d9a",
   "metadata": {},
   "outputs": [],
   "source": [
    "l4 = ['niharika', 'Jayasree','LAHARI']"
   ]
  },
  {
   "cell_type": "code",
   "execution_count": 61,
   "id": "7f240d97",
   "metadata": {},
   "outputs": [
    {
     "data": {
      "text/plain": [
       "'Jayasree'"
      ]
     },
     "execution_count": 61,
     "metadata": {},
     "output_type": "execute_result"
    }
   ],
   "source": [
    "min(l4)"
   ]
  },
  {
   "cell_type": "code",
   "execution_count": 63,
   "id": "540a6825",
   "metadata": {},
   "outputs": [],
   "source": [
    "l5 = [\"n\", \"i\",\"h\", \"a\",\"N\",\"I\",\"H\",\"A\"]"
   ]
  },
  {
   "cell_type": "code",
   "execution_count": 64,
   "id": "46155a98",
   "metadata": {},
   "outputs": [
    {
     "data": {
      "text/plain": [
       "'n'"
      ]
     },
     "execution_count": 64,
     "metadata": {},
     "output_type": "execute_result"
    }
   ],
   "source": [
    "max(l5)"
   ]
  },
  {
   "cell_type": "code",
   "execution_count": 65,
   "id": "ec260a34",
   "metadata": {},
   "outputs": [
    {
     "data": {
      "text/plain": [
       "'A'"
      ]
     },
     "execution_count": 65,
     "metadata": {},
     "output_type": "execute_result"
    }
   ],
   "source": [
    "min(l5)"
   ]
  },
  {
   "cell_type": "code",
   "execution_count": 66,
   "id": "c5b3441a",
   "metadata": {},
   "outputs": [],
   "source": [
    "l5[0] = \"niha\""
   ]
  },
  {
   "cell_type": "code",
   "execution_count": 68,
   "id": "14bd76ad",
   "metadata": {},
   "outputs": [
    {
     "data": {
      "text/plain": [
       "['niha', 'i', 'h', 'a', 'N', 'I', 'H', 'A']"
      ]
     },
     "execution_count": 68,
     "metadata": {},
     "output_type": "execute_result"
    }
   ],
   "source": [
    "l5"
   ]
  },
  {
   "cell_type": "code",
   "execution_count": 69,
   "id": "a884b7d8",
   "metadata": {},
   "outputs": [],
   "source": [
    "l6 = ('niharika', 'Jayasree','LAHARI')"
   ]
  },
  {
   "cell_type": "code",
   "execution_count": 70,
   "id": "8c5fc2ac",
   "metadata": {},
   "outputs": [
    {
     "ename": "TypeError",
     "evalue": "'tuple' object does not support item assignment",
     "output_type": "error",
     "traceback": [
      "\u001b[1;31m---------------------------------------------------------------------------\u001b[0m",
      "\u001b[1;31mTypeError\u001b[0m                                 Traceback (most recent call last)",
      "Input \u001b[1;32mIn [70]\u001b[0m, in \u001b[0;36m<cell line: 1>\u001b[1;34m()\u001b[0m\n\u001b[1;32m----> 1\u001b[0m l6[\u001b[38;5;241m0\u001b[39m] \u001b[38;5;241m=\u001b[39m \u001b[38;5;124m'\u001b[39m\u001b[38;5;124mniha\u001b[39m\u001b[38;5;124m'\u001b[39m\n",
      "\u001b[1;31mTypeError\u001b[0m: 'tuple' object does not support item assignment"
     ]
    }
   ],
   "source": [
    "l6[0] = 'niha'"
   ]
  },
  {
   "cell_type": "code",
   "execution_count": 71,
   "id": "09742efd",
   "metadata": {},
   "outputs": [],
   "source": [
    "#tupple is immutable."
   ]
  },
  {
   "cell_type": "code",
   "execution_count": 72,
   "id": "a0d4b195",
   "metadata": {},
   "outputs": [],
   "source": [
    "#list is mutable"
   ]
  },
  {
   "cell_type": "code",
   "execution_count": 73,
   "id": "d58b75c4",
   "metadata": {},
   "outputs": [
    {
     "data": {
      "text/plain": [
       "0"
      ]
     },
     "execution_count": 73,
     "metadata": {},
     "output_type": "execute_result"
    }
   ],
   "source": [
    "l6.index(\"niharika\")"
   ]
  },
  {
   "cell_type": "code",
   "execution_count": 74,
   "id": "7635eb2d",
   "metadata": {},
   "outputs": [],
   "source": [
    "str = \"Niha\""
   ]
  },
  {
   "cell_type": "code",
   "execution_count": 75,
   "id": "a090f1d4",
   "metadata": {},
   "outputs": [
    {
     "data": {
      "text/plain": [
       "'h'"
      ]
     },
     "execution_count": 75,
     "metadata": {},
     "output_type": "execute_result"
    }
   ],
   "source": [
    "str[2]"
   ]
  },
  {
   "cell_type": "code",
   "execution_count": 76,
   "id": "2fd8baea",
   "metadata": {},
   "outputs": [
    {
     "ename": "TypeError",
     "evalue": "'str' object does not support item assignment",
     "output_type": "error",
     "traceback": [
      "\u001b[1;31m---------------------------------------------------------------------------\u001b[0m",
      "\u001b[1;31mTypeError\u001b[0m                                 Traceback (most recent call last)",
      "Input \u001b[1;32mIn [76]\u001b[0m, in \u001b[0;36m<cell line: 1>\u001b[1;34m()\u001b[0m\n\u001b[1;32m----> 1\u001b[0m \u001b[38;5;28mstr\u001b[39m[\u001b[38;5;241m2\u001b[39m] \u001b[38;5;241m=\u001b[39m \u001b[38;5;124m\"\u001b[39m\u001b[38;5;124me\u001b[39m\u001b[38;5;124m\"\u001b[39m\n",
      "\u001b[1;31mTypeError\u001b[0m: 'str' object does not support item assignment"
     ]
    }
   ],
   "source": [
    "str[2] = \"e\""
   ]
  },
  {
   "cell_type": "code",
   "execution_count": 77,
   "id": "50bc418c",
   "metadata": {},
   "outputs": [],
   "source": [
    "l7 = (15, 17, 19, 'Niharika', 'Lahari', 'Jayasree', True, 'Sravya')"
   ]
  },
  {
   "cell_type": "code",
   "execution_count": 78,
   "id": "8d1fab83",
   "metadata": {},
   "outputs": [
    {
     "data": {
      "text/plain": [
       "19"
      ]
     },
     "execution_count": 78,
     "metadata": {},
     "output_type": "execute_result"
    }
   ],
   "source": [
    "l7[2]"
   ]
  },
  {
   "cell_type": "code",
   "execution_count": 79,
   "id": "2579e0d4",
   "metadata": {},
   "outputs": [
    {
     "ename": "TypeError",
     "evalue": "can only concatenate tuple (not \"str\") to tuple",
     "output_type": "error",
     "traceback": [
      "\u001b[1;31m---------------------------------------------------------------------------\u001b[0m",
      "\u001b[1;31mTypeError\u001b[0m                                 Traceback (most recent call last)",
      "Input \u001b[1;32mIn [79]\u001b[0m, in \u001b[0;36m<cell line: 1>\u001b[1;34m()\u001b[0m\n\u001b[1;32m----> 1\u001b[0m \u001b[43ml7\u001b[49m\u001b[43m \u001b[49m\u001b[38;5;241;43m+\u001b[39;49m\u001b[43m \u001b[49m\u001b[38;5;124;43m\"\u001b[39;49m\u001b[38;5;124;43mNiah\u001b[39;49m\u001b[38;5;124;43m\"\u001b[39;49m\n",
      "\u001b[1;31mTypeError\u001b[0m: can only concatenate tuple (not \"str\") to tuple"
     ]
    }
   ],
   "source": [
    "l7 + \"Niha\""
   ]
  },
  {
   "cell_type": "code",
   "execution_count": 81,
   "id": "82c8ca39",
   "metadata": {},
   "outputs": [
    {
     "ename": "TypeError",
     "evalue": "can only concatenate tuple (not \"str\") to tuple",
     "output_type": "error",
     "traceback": [
      "\u001b[1;31m---------------------------------------------------------------------------\u001b[0m",
      "\u001b[1;31mTypeError\u001b[0m                                 Traceback (most recent call last)",
      "Input \u001b[1;32mIn [81]\u001b[0m, in \u001b[0;36m<cell line: 1>\u001b[1;34m()\u001b[0m\n\u001b[1;32m----> 1\u001b[0m \u001b[43ml7\u001b[49m\u001b[43m \u001b[49m\u001b[38;5;241;43m+\u001b[39;49m\u001b[43m(\u001b[49m\u001b[38;5;124;43m\"\u001b[39;49m\u001b[38;5;124;43mNiha\u001b[39;49m\u001b[38;5;124;43m\"\u001b[39;49m\u001b[43m)\u001b[49m\n",
      "\u001b[1;31mTypeError\u001b[0m: can only concatenate tuple (not \"str\") to tuple"
     ]
    }
   ],
   "source": [
    "l7 +(\"Niha\")"
   ]
  },
  {
   "cell_type": "code",
   "execution_count": 82,
   "id": "81e7654e",
   "metadata": {},
   "outputs": [
    {
     "data": {
      "text/plain": [
       "(15, 17, 19, 'Niharika', 'Lahari', 'Jayasree', True, 'Sravya')"
      ]
     },
     "execution_count": 82,
     "metadata": {},
     "output_type": "execute_result"
    }
   ],
   "source": [
    "l7[0:10]"
   ]
  },
  {
   "cell_type": "code",
   "execution_count": 83,
   "id": "2f626756",
   "metadata": {},
   "outputs": [
    {
     "data": {
      "text/plain": [
       "()"
      ]
     },
     "execution_count": 83,
     "metadata": {},
     "output_type": "execute_result"
    }
   ],
   "source": [
    "l7[9:0:3]"
   ]
  },
  {
   "cell_type": "code",
   "execution_count": 84,
   "id": "fad8eeb0",
   "metadata": {},
   "outputs": [],
   "source": [
    "l8 = [15, 17, 19, 'Niharika', 'Lahari', 'Jayasree', True, 'Sravya']"
   ]
  },
  {
   "cell_type": "code",
   "execution_count": 87,
   "id": "a2970459",
   "metadata": {},
   "outputs": [
    {
     "data": {
      "text/plain": [
       "[15, 17, 19, 'Niharika', 'Lahari', 'Jayasree', True, 'Sravya', 'Niha']"
      ]
     },
     "execution_count": 87,
     "metadata": {},
     "output_type": "execute_result"
    }
   ],
   "source": [
    "l8 + [\"Niha\"]"
   ]
  },
  {
   "cell_type": "code",
   "execution_count": 88,
   "id": "281bf87c",
   "metadata": {},
   "outputs": [],
   "source": [
    "l8.insert(6,\"False\")"
   ]
  },
  {
   "cell_type": "code",
   "execution_count": 89,
   "id": "3eaf6a71",
   "metadata": {},
   "outputs": [
    {
     "data": {
      "text/plain": [
       "[15, 17, 19, 'Niharika', 'Lahari', 'Jayasree', 'False', True, 'Sravya']"
      ]
     },
     "execution_count": 89,
     "metadata": {},
     "output_type": "execute_result"
    }
   ],
   "source": [
    "l8"
   ]
  },
  {
   "cell_type": "code",
   "execution_count": 92,
   "id": "4c4df399",
   "metadata": {},
   "outputs": [],
   "source": [
    "l8.insert(-1,\"Niha\")"
   ]
  },
  {
   "cell_type": "code",
   "execution_count": 93,
   "id": "292fd703",
   "metadata": {},
   "outputs": [
    {
     "data": {
      "text/plain": [
       "[15,\n",
       " 17,\n",
       " 19,\n",
       " 'Niharika',\n",
       " 'Lahari',\n",
       " 'Jayasree',\n",
       " 'Niha',\n",
       " 'False',\n",
       " True,\n",
       " 'Niha',\n",
       " 'Sravya']"
      ]
     },
     "execution_count": 93,
     "metadata": {},
     "output_type": "execute_result"
    }
   ],
   "source": [
    "l8"
   ]
  },
  {
   "cell_type": "code",
   "execution_count": 95,
   "id": "2f966b64",
   "metadata": {},
   "outputs": [],
   "source": [
    "l8.insert(-2,1000)"
   ]
  },
  {
   "cell_type": "code",
   "execution_count": 96,
   "id": "d8d83dde",
   "metadata": {},
   "outputs": [
    {
     "data": {
      "text/plain": [
       "[15,\n",
       " 17,\n",
       " 19,\n",
       " 'Niharika',\n",
       " 'Lahari',\n",
       " 'Jayasree',\n",
       " 'Niha',\n",
       " 'False',\n",
       " True,\n",
       " 1000,\n",
       " 'Niha',\n",
       " 'Sravya']"
      ]
     },
     "execution_count": 96,
     "metadata": {},
     "output_type": "execute_result"
    }
   ],
   "source": [
    "l8"
   ]
  },
  {
   "cell_type": "code",
   "execution_count": 101,
   "id": "3a95b703",
   "metadata": {},
   "outputs": [],
   "source": [
    "l8.append([1,11,\"Sravya\"])"
   ]
  },
  {
   "cell_type": "code",
   "execution_count": 102,
   "id": "bc114eeb",
   "metadata": {},
   "outputs": [
    {
     "data": {
      "text/plain": [
       "[15,\n",
       " 17,\n",
       " 19,\n",
       " 'Niharika',\n",
       " 'Lahari',\n",
       " 'Jayasree',\n",
       " 'Niha',\n",
       " 'False',\n",
       " True,\n",
       " 1000,\n",
       " 'Niha',\n",
       " 'Sravya',\n",
       " [1, 11, 111],\n",
       " [1, 11, 'Sravya']]"
      ]
     },
     "execution_count": 102,
     "metadata": {},
     "output_type": "execute_result"
    }
   ],
   "source": [
    "l8"
   ]
  },
  {
   "cell_type": "code",
   "execution_count": 99,
   "id": "8d30ba8c",
   "metadata": {},
   "outputs": [],
   "source": [
    "#we can append list inside a list"
   ]
  },
  {
   "cell_type": "code",
   "execution_count": 103,
   "id": "27f72462",
   "metadata": {},
   "outputs": [],
   "source": [
    "l8.remove(\"Sravya\")"
   ]
  },
  {
   "cell_type": "code",
   "execution_count": 104,
   "id": "e1ebc591",
   "metadata": {},
   "outputs": [
    {
     "data": {
      "text/plain": [
       "[15,\n",
       " 17,\n",
       " 19,\n",
       " 'Niharika',\n",
       " 'Lahari',\n",
       " 'Jayasree',\n",
       " 'Niha',\n",
       " 'False',\n",
       " True,\n",
       " 1000,\n",
       " 'Niha',\n",
       " [1, 11, 111],\n",
       " [1, 11, 'Sravya']]"
      ]
     },
     "execution_count": 104,
     "metadata": {},
     "output_type": "execute_result"
    }
   ],
   "source": [
    "l8"
   ]
  },
  {
   "cell_type": "code",
   "execution_count": 109,
   "id": "512d447a",
   "metadata": {},
   "outputs": [],
   "source": [
    "d = {\"name\":\"Niharika\",\"Class\":\"sec-1\",\"Age\":18}"
   ]
  },
  {
   "cell_type": "code",
   "execution_count": 111,
   "id": "37c820fd",
   "metadata": {},
   "outputs": [
    {
     "data": {
      "text/plain": [
       "18"
      ]
     },
     "execution_count": 111,
     "metadata": {},
     "output_type": "execute_result"
    }
   ],
   "source": [
    "d[\"Age\"]"
   ]
  },
  {
   "cell_type": "code",
   "execution_count": null,
   "id": "984007ef",
   "metadata": {},
   "outputs": [],
   "source": []
  }
 ],
 "metadata": {
  "kernelspec": {
   "display_name": "Python 3 (ipykernel)",
   "language": "python",
   "name": "python3"
  },
  "language_info": {
   "codemirror_mode": {
    "name": "ipython",
    "version": 3
   },
   "file_extension": ".py",
   "mimetype": "text/x-python",
   "name": "python",
   "nbconvert_exporter": "python",
   "pygments_lexer": "ipython3",
   "version": "3.10.1"
  }
 },
 "nbformat": 4,
 "nbformat_minor": 5
}
